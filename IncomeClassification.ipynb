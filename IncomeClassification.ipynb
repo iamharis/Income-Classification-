{
 "cells": [
  {
   "cell_type": "code",
   "execution_count": 136,
   "metadata": {},
   "outputs": [
    {
     "name": "stdout",
     "output_type": "stream",
     "text": [
      "Requirement already satisfied: category_encoders in ./common/.virtualenv/python3/lib/python3.5/site-packages\n",
      "Requirement already satisfied: statsmodels>=0.6.0 in ./common/.virtualenv/python3/lib/python3.5/site-packages (from category_encoders)\n",
      "Requirement already satisfied: scipy>=0.9 in /usr/local/lib/python3.5/dist-packages (from category_encoders)\n",
      "Requirement already satisfied: numpy>=1.8.0 in /usr/local/lib/python3.5/dist-packages (from category_encoders)\n",
      "Requirement already satisfied: pandas>=0.15.0 in /usr/local/lib/python3.5/dist-packages (from category_encoders)\n",
      "Requirement already satisfied: patsy>=0.4.0 in ./common/.virtualenv/python3/lib/python3.5/site-packages (from category_encoders)\n",
      "Requirement already satisfied: scikit-learn>=0.15.0 in /usr/local/lib/python3.5/dist-packages (from category_encoders)\n",
      "Requirement already satisfied: python-dateutil>=2 in /usr/local/lib/python3.5/dist-packages (from pandas>=0.15.0->category_encoders)\n",
      "Requirement already satisfied: pytz>=2011k in /usr/local/lib/python3.5/dist-packages (from pandas>=0.15.0->category_encoders)\n",
      "Requirement already satisfied: six in /usr/lib/python3/dist-packages (from patsy>=0.4.0->category_encoders)\n",
      "\u001b[33mYou are using pip version 9.0.1, however version 9.0.3 is available.\n",
      "You should consider upgrading via the 'pip install --upgrade pip' command.\u001b[0m\n"
     ]
    }
   ],
   "source": [
    "#Importing all necessary Libraries\n",
    "import numpy as np\n",
    "import pandas as pd\n",
    "import matplotlib.pyplot as plt\n",
    "%matplotlib inline\n",
    "import seaborn as sns\n",
    "!pip install category_encoders\n",
    "import category_encoders as ce"
   ]
  },
  {
   "cell_type": "markdown",
   "metadata": {},
   "source": [
    "# 1a. Data Cleanup"
   ]
  },
  {
   "cell_type": "code",
   "execution_count": 257,
   "metadata": {},
   "outputs": [],
   "source": [
    "#Reading the files \n",
    "train=pd.read_csv('income-testing.csv')\n",
    "test=pd.read_csv('income-training.csv')"
   ]
  },
  {
   "cell_type": "code",
   "execution_count": 258,
   "metadata": {},
   "outputs": [
    {
     "name": "stdout",
     "output_type": "stream",
     "text": [
      "<class 'pandas.core.frame.DataFrame'>\n",
      "RangeIndex: 12211 entries, 0 to 12210\n",
      "Data columns (total 15 columns):\n",
      "Age              12211 non-null int64\n",
      "WorkClass        11523 non-null object\n",
      "FinalWeight      12211 non-null int64\n",
      "Education        12211 non-null object\n",
      "EducationLvl     12211 non-null int64\n",
      "MaritalStatus    12211 non-null object\n",
      "Occupation       11521 non-null object\n",
      "Relationship     12211 non-null object\n",
      "Race             12211 non-null object\n",
      "Sex              12211 non-null object\n",
      "CapitalGain      12211 non-null int64\n",
      "CapitalLoss      12211 non-null int64\n",
      "HoursPerWeek     12211 non-null int64\n",
      "NativeCountry    11986 non-null object\n",
      "IncomeBracket    12211 non-null object\n",
      "dtypes: int64(6), object(9)\n",
      "memory usage: 1.4+ MB\n",
      "None\n",
      "\n",
      "=============================================================================================================================\n",
      "\n",
      "<class 'pandas.core.frame.DataFrame'>\n",
      "RangeIndex: 24421 entries, 0 to 24420\n",
      "Data columns (total 15 columns):\n",
      "Age              24421 non-null int64\n",
      "WorkClass        23037 non-null object\n",
      "FinalWeight      24421 non-null int64\n",
      "Education        24421 non-null object\n",
      "EducationLvl     24421 non-null int64\n",
      "MaritalStatus    24421 non-null object\n",
      "Occupation       23031 non-null object\n",
      "Relationship     24421 non-null object\n",
      "Race             24421 non-null object\n",
      "Sex              24421 non-null object\n",
      "CapitalGain      24421 non-null int64\n",
      "CapitalLoss      24421 non-null int64\n",
      "HoursPerWeek     24421 non-null int64\n",
      "NativeCountry    24026 non-null object\n",
      "IncomeBracket    24421 non-null object\n",
      "dtypes: int64(6), object(9)\n",
      "memory usage: 2.8+ MB\n",
      "None\n"
     ]
    }
   ],
   "source": [
    "#Gather information regarding the columns elements and total no of elements in both test and train data\n",
    "print(train.info())\n",
    "print('\\n=============================================================================================================================\\n')\n",
    "print(test.info())"
   ]
  },
  {
   "cell_type": "markdown",
   "metadata": {},
   "source": [
    "###### From above it can be noted that some values in WorkClass, Occupation and Native Country are Missing in both testing and training data sets."
   ]
  },
  {
   "cell_type": "code",
   "execution_count": 259,
   "metadata": {
    "scrolled": true
   },
   "outputs": [
    {
     "name": "stdout",
     "output_type": "stream",
     "text": [
      "Age                0\n",
      "WorkClass        688\n",
      "FinalWeight        0\n",
      "Education          0\n",
      "EducationLvl       0\n",
      "MaritalStatus      0\n",
      "Occupation       690\n",
      "Relationship       0\n",
      "Race               0\n",
      "Sex                0\n",
      "CapitalGain        0\n",
      "CapitalLoss        0\n",
      "HoursPerWeek       0\n",
      "NativeCountry    225\n",
      "IncomeBracket      0\n",
      "dtype: int64\n",
      "\n",
      "=====================================================================================================================\n",
      "\n",
      "Age                 0\n",
      "WorkClass        1384\n",
      "FinalWeight         0\n",
      "Education           0\n",
      "EducationLvl        0\n",
      "MaritalStatus       0\n",
      "Occupation       1390\n",
      "Relationship        0\n",
      "Race                0\n",
      "Sex                 0\n",
      "CapitalGain         0\n",
      "CapitalLoss         0\n",
      "HoursPerWeek        0\n",
      "NativeCountry     395\n",
      "IncomeBracket       0\n",
      "dtype: int64\n"
     ]
    }
   ],
   "source": [
    "#Find the no of elements missing in each columns for test and train data\n",
    "print(train.isnull().sum())\n",
    "print('\\n=====================================================================================================================\\n')\n",
    "print(test.isnull().sum())"
   ]
  },
  {
   "cell_type": "code",
   "execution_count": 260,
   "metadata": {},
   "outputs": [
    {
     "data": {
      "text/plain": [
       "United-States                 11003\n",
       "Mexico                          206\n",
       "Philippines                      68\n",
       "Germany                          59\n",
       "Canada                           51\n",
       "Puerto-Rico                      46\n",
       "India                            34\n",
       "Cuba                             33\n",
       "China                            33\n",
       "England                          31\n",
       "El-Salvador                      31\n",
       "Italy                            30\n",
       "Dominican-Republic               29\n",
       "Jamaica                          28\n",
       "Guatemala                        26\n",
       "South                            24\n",
       "Portugal                         21\n",
       "Nicaragua                        19\n",
       "Japan                            18\n",
       "Haiti                            18\n",
       "Vietnam                          17\n",
       "Columbia                         17\n",
       "Iran                             13\n",
       "Peru                             13\n",
       "Ecuador                          12\n",
       "Taiwan                           12\n",
       "Poland                           11\n",
       "Greece                           10\n",
       "France                            9\n",
       "Hungary                           9\n",
       "Cambodia                          8\n",
       "Thailand                          7\n",
       "Outlying-US(Guam-USVI-etc)        7\n",
       "Laos                              6\n",
       "Hong                              6\n",
       "Trinadad&Tobago                   6\n",
       "Ireland                           5\n",
       "Yugoslavia                        5\n",
       "Scotland                          3\n",
       "Honduras                          2\n",
       "Name: NativeCountry, dtype: int64"
      ]
     },
     "execution_count": 260,
     "metadata": {},
     "output_type": "execute_result"
    }
   ],
   "source": [
    "# We see how the elements are distributed in NativeCountry\n",
    "train.NativeCountry.value_counts()"
   ]
  },
  {
   "cell_type": "markdown",
   "metadata": {},
   "source": [
    "###### The mode of the NativeCountry column is 'United-States' and the frequency of all other data is significantly low i.e all data combined together comprises less that 10% of the entire data. Hence, the correct approach will be to replace the missing values with 'United-States'"
   ]
  },
  {
   "cell_type": "code",
   "execution_count": 261,
   "metadata": {},
   "outputs": [
    {
     "name": "stderr",
     "output_type": "stream",
     "text": [
      "/usr/local/lib/python3.5/dist-packages/ipykernel/__main__.py:2: FutureWarning: set_value is deprecated and will be removed in a future release. Please use .at[] or .iat[] accessors instead\n",
      "  from ipykernel import kernelapp as app\n"
     ]
    }
   ],
   "source": [
    "# Replace the missing data in NativeCountry by mode of the data which is United-States\n",
    "train=train.set_value(train.NativeCountry.isnull(), 'NativeCountry', 'United-States')"
   ]
  },
  {
   "cell_type": "markdown",
   "metadata": {},
   "source": [
    "Mode for the WorkClass and Occupation column is \"Private\" and \"Exec-managerial\" repectively.\n",
    "There are two significant observations \n",
    "\n",
    "#1. In Occupation column, the frequency of the variables \"Exec-managerial\", \"Craft-repair\" \"Prof-specialty\" are very close, Hence replacing the missing data with mode will create make the data biased. Hence the correct approach will be to delete these rows.\n",
    "\n",
    "#2. Further, if we observe data in Occupation column and Workclass column are missing simultaneously.So when we remove data from Occupation the missing data in Woek class will automatically get removed."
   ]
  },
  {
   "cell_type": "code",
   "execution_count": 262,
   "metadata": {},
   "outputs": [],
   "source": [
    "#replacing the missing data in Workcalss by mode of the WorkClass which is Private\n",
    "#train=train.set_value(train.WorkClass.isnull(), 'WorkClass', 'Private')"
   ]
  },
  {
   "cell_type": "code",
   "execution_count": 263,
   "metadata": {},
   "outputs": [],
   "source": [
    "# we delete the rows corresponding to the missing elements in the Occupation Column\n",
    "train = train[pd.notnull(train['Occupation'])]"
   ]
  },
  {
   "cell_type": "code",
   "execution_count": 264,
   "metadata": {},
   "outputs": [],
   "source": [
    "#replacing the missing data in Workcalss by mode of the WorkClass which is Private\n",
    "#test=test.set_value(test.WorkClass.isnull(), 'WorkClass', 'Private')"
   ]
  },
  {
   "cell_type": "code",
   "execution_count": 265,
   "metadata": {},
   "outputs": [
    {
     "name": "stderr",
     "output_type": "stream",
     "text": [
      "/usr/local/lib/python3.5/dist-packages/ipykernel/__main__.py:2: FutureWarning: set_value is deprecated and will be removed in a future release. Please use .at[] or .iat[] accessors instead\n",
      "  from ipykernel import kernelapp as app\n"
     ]
    }
   ],
   "source": [
    "# replace the missing data in NativeCountry by mode of the data\n",
    "test=test.set_value(test.NativeCountry.isnull(), 'NativeCountry', 'United-States')"
   ]
  },
  {
   "cell_type": "code",
   "execution_count": 266,
   "metadata": {
    "collapsed": true
   },
   "outputs": [],
   "source": [
    "# we delete the rows corresponding to the missing elements in the Occupation Column\n",
    "test = test[pd.notnull(test['Occupation'])]"
   ]
  },
  {
   "cell_type": "code",
   "execution_count": 267,
   "metadata": {},
   "outputs": [
    {
     "name": "stdout",
     "output_type": "stream",
     "text": [
      "Age              0\n",
      "WorkClass        0\n",
      "FinalWeight      0\n",
      "Education        0\n",
      "EducationLvl     0\n",
      "MaritalStatus    0\n",
      "Occupation       0\n",
      "Relationship     0\n",
      "Race             0\n",
      "Sex              0\n",
      "CapitalGain      0\n",
      "CapitalLoss      0\n",
      "HoursPerWeek     0\n",
      "NativeCountry    0\n",
      "IncomeBracket    0\n",
      "dtype: int64\n",
      "\n",
      "=====================================================================================================================\n",
      "\n",
      "Age              0\n",
      "WorkClass        0\n",
      "FinalWeight      0\n",
      "Education        0\n",
      "EducationLvl     0\n",
      "MaritalStatus    0\n",
      "Occupation       0\n",
      "Relationship     0\n",
      "Race             0\n",
      "Sex              0\n",
      "CapitalGain      0\n",
      "CapitalLoss      0\n",
      "HoursPerWeek     0\n",
      "NativeCountry    0\n",
      "IncomeBracket    0\n",
      "dtype: int64\n"
     ]
    }
   ],
   "source": [
    "print(train.isnull().sum())\n",
    "print('\\n=====================================================================================================================\\n')\n",
    "print(test.isnull().sum())"
   ]
  },
  {
   "cell_type": "markdown",
   "metadata": {},
   "source": [
    "###### we can see that we are now clear of missing values in test and train datasets"
   ]
  },
  {
   "cell_type": "markdown",
   "metadata": {},
   "source": [
    "# 1b. Encoding"
   ]
  },
  {
   "cell_type": "code",
   "execution_count": 268,
   "metadata": {},
   "outputs": [],
   "source": [
    "#we need the raw data to perform further analysis, hence I am just writing a function for encoding. I am using one hot encoding \n",
    "#In One hot encoding each category is converted into new columnn and and a true or false value is assigned. However in lable encoding\n",
    "# each category is assigned a numeric value which may possibly confuse the algorithm.\n",
    "#In this assignment encoding is done just before the model implementation \n",
    "def encode(x):\n",
    "    y=pd.get_dummies(x)\n",
    "    return y"
   ]
  },
  {
   "cell_type": "markdown",
   "metadata": {},
   "source": [
    "# 2. Exploratory Analysis"
   ]
  },
  {
   "cell_type": "markdown",
   "metadata": {},
   "source": [
    "## 2a Graphs"
   ]
  },
  {
   "cell_type": "code",
   "execution_count": 269,
   "metadata": {
    "scrolled": true
   },
   "outputs": [
    {
     "name": "stderr",
     "output_type": "stream",
     "text": [
      "/usr/local/lib/python3.5/dist-packages/seaborn/categorical.py:1508: FutureWarning: remove_na is deprecated and is a private function. Do not use.\n",
      "  stat_data = remove_na(group_data[hue_mask])\n"
     ]
    },
    {
     "data": {
      "image/png": "[encoded data removed]",
      "text/plain": [
       "<matplotlib.figure.Figure at 0x7fe2b8032898>"
      ]
     },
     "metadata": {},
     "output_type": "display_data"
    }
   ],
   "source": [
    "g = sns.factorplot('EducationLvl', 'HoursPerWeek', hue = 'Sex', col = 'IncomeBracket', data = train)"
   ]
  },
  {
   "cell_type": "markdown",
   "metadata": {},
   "source": [
    "###### I have done a factor plot, from this we can note that in most cases females work for less Hours per week than Males, However they have a significant presence in all the three income brackets. Further it can be observed that respondants from all educational backgruond fall within the the three income groups, Hence we can considet these there categories important for classifying the income bracket"
   ]
  },
  {
   "cell_type": "code",
   "execution_count": 270,
   "metadata": {},
   "outputs": [
    {
     "name": "stderr",
     "output_type": "stream",
     "text": [
      "/usr/local/lib/python3.5/dist-packages/seaborn/categorical.py:1508: FutureWarning: remove_na is deprecated and is a private function. Do not use.\n",
      "  stat_data = remove_na(group_data[hue_mask])\n"
     ]
    },
    {
     "data": {
      "image/png": "[encoded data removed]",
      "text/plain": [
       "<matplotlib.figure.Figure at 0x7fe28d364978>"
      ]
     },
     "metadata": {},
     "output_type": "display_data"
    }
   ],
   "source": [
    " g = sns.factorplot('EducationLvl', 'HoursPerWeek', hue = 'WorkClass', col = 'IncomeBracket', data = train,size=6, aspect=1)"
   ]
  },
  {
   "cell_type": "markdown",
   "metadata": {},
   "source": [
    "###### When we do a factor plot again the educationlvl, hours per week and Work Class we can see that people from all the working class are all distributed among the three different income brackets, However there is a slight corelation between the workclass and EducationLvl"
   ]
  },
  {
   "cell_type": "code",
   "execution_count": 271,
   "metadata": {},
   "outputs": [
    {
     "name": "stderr",
     "output_type": "stream",
     "text": [
      "/usr/local/lib/python3.5/dist-packages/seaborn/categorical.py:1508: FutureWarning: remove_na is deprecated and is a private function. Do not use.\n",
      "  stat_data = remove_na(group_data[hue_mask])\n"
     ]
    },
    {
     "data": {
      "text/plain": [
       "<matplotlib.axes._subplots.AxesSubplot at 0x7fe28c29fb38>"
      ]
     },
     "execution_count": 271,
     "metadata": {},
     "output_type": "execute_result"
    },
    {
     "data": {
      "image/png": "[encoded data removed]",
      "text/plain": [
       "<matplotlib.figure.Figure at 0x7fe28753ae80>"
      ]
     },
     "metadata": {},
     "output_type": "display_data"
    }
   ],
   "source": [
    "sns.countplot(x='Sex', hue='IncomeBracket', data=train, palette=\"BuGn_r\")"
   ]
  },
  {
   "cell_type": "markdown",
   "metadata": {},
   "source": [
    "###### The reason for this plot is to determine if Sex of the person has any impact on the income bracker, as we can observe that  about 3200 Females fall under the income category <50K and close to 1000 fall under the other two income categories which is only 23%, However among males,about 5500 fall undet the category <50K and close to 2500 fall under the other two income group which is about 33%. Hence we can draw a conclusion that gender has an impact on the IncomeBracket"
   ]
  },
  {
   "cell_type": "code",
   "execution_count": 273,
   "metadata": {},
   "outputs": [
    {
     "name": "stderr",
     "output_type": "stream",
     "text": [
      "/usr/local/lib/python3.5/dist-packages/seaborn/categorical.py:1508: FutureWarning: remove_na is deprecated and is a private function. Do not use.\n",
      "  stat_data = remove_na(group_data[hue_mask])\n"
     ]
    },
    {
     "data": {
      "text/plain": [
       "<matplotlib.axes._subplots.AxesSubplot at 0x7fe28c158588>"
      ]
     },
     "execution_count": 273,
     "metadata": {},
     "output_type": "execute_result"
    },
    {
     "data": {
      "image/png": "[encoded data removed]",
      "text/plain": [
       "<matplotlib.figure.Figure at 0x7fe28c167898>"
      ]
     },
     "metadata": {},
     "output_type": "display_data"
    }
   ],
   "source": [
    "sns.countplot(y='MaritalStatus', hue='IncomeBracket', data=train, palette=\"Greens_d\")\n",
    "\n",
    "#plot relating the MaritalStatus and IncomeBracket"
   ]
  },
  {
   "cell_type": "code",
   "execution_count": 274,
   "metadata": {},
   "outputs": [
    {
     "name": "stderr",
     "output_type": "stream",
     "text": [
      "/usr/local/lib/python3.5/dist-packages/seaborn/categorical.py:1508: FutureWarning: remove_na is deprecated and is a private function. Do not use.\n",
      "  stat_data = remove_na(group_data[hue_mask])\n"
     ]
    },
    {
     "data": {
      "text/plain": [
       "<matplotlib.axes._subplots.AxesSubplot at 0x7fe28c210a90>"
      ]
     },
     "execution_count": 274,
     "metadata": {},
     "output_type": "execute_result"
    },
    {
     "data": {
      "image/png": "[encoded data removed]",
      "text/plain": [
       "<matplotlib.figure.Figure at 0x7fe28c1cf4a8>"
      ]
     },
     "metadata": {},
     "output_type": "display_data"
    }
   ],
   "source": [
    "sns.countplot(y='Occupation', hue='IncomeBracket', data=train)\n",
    "#Plot relating the Occupation and IncomeBracket"
   ]
  },
  {
   "cell_type": "code",
   "execution_count": 275,
   "metadata": {},
   "outputs": [
    {
     "name": "stderr",
     "output_type": "stream",
     "text": [
      "/usr/local/lib/python3.5/dist-packages/seaborn/categorical.py:1508: FutureWarning: remove_na is deprecated and is a private function. Do not use.\n",
      "  stat_data = remove_na(group_data[hue_mask])\n"
     ]
    },
    {
     "data": {
      "text/plain": [
       "<matplotlib.axes._subplots.AxesSubplot at 0x7fe287340898>"
      ]
     },
     "execution_count": 275,
     "metadata": {},
     "output_type": "execute_result"
    },
    {
     "data": {
      "image/png": "[encoded data removed]",
      "text/plain": [
       "<matplotlib.figure.Figure at 0x7fe28c1f6a90>"
      ]
     },
     "metadata": {},
     "output_type": "display_data"
    }
   ],
   "source": [
    "sns.countplot(y='Education', hue='IncomeBracket', data=train)\n",
    "#Plot Relating Education and IncomeBracket"
   ]
  },
  {
   "cell_type": "markdown",
   "metadata": {},
   "source": [
    "## 2.b Correlation"
   ]
  },
  {
   "cell_type": "code",
   "execution_count": 276,
   "metadata": {},
   "outputs": [],
   "source": [
    "#converts the IncomeBracket(Target Variable) in train data to 0, 1 or 2\n",
    "train.IncomeBracket.replace({'<50K':0,'50-100K':1,'>100K':2 }, inplace = True)"
   ]
  },
  {
   "cell_type": "code",
   "execution_count": 277,
   "metadata": {},
   "outputs": [],
   "source": [
    "#converts the IncomeBracket (Target Variable) in test data to 0, 1 or 2\n",
    "test.IncomeBracket.replace({'<50K':0,'50-100K':1,'>100K':2 }, inplace = True)"
   ]
  },
  {
   "cell_type": "code",
   "execution_count": 278,
   "metadata": {},
   "outputs": [
    {
     "data": {
      "text/html": [
       "<div>\n",
       "<style scoped>\n",
       "    .dataframe tbody tr th:only-of-type {\n",
       "        vertical-align: middle;\n",
       "    }\n",
       "\n",
       "    .dataframe tbody tr th {\n",
       "        vertical-align: top;\n",
       "    }\n",
       "\n",
       "    .dataframe thead th {\n",
       "        text-align: right;\n",
       "    }\n",
       "</style>\n",
       "<table border=\"1\" class=\"dataframe\">\n",
       "  <thead>\n",
       "    <tr style=\"text-align: right;\">\n",
       "      <th></th>\n",
       "      <th>Age</th>\n",
       "      <th>FinalWeight</th>\n",
       "      <th>EducationLvl</th>\n",
       "      <th>CapitalGain</th>\n",
       "      <th>CapitalLoss</th>\n",
       "      <th>HoursPerWeek</th>\n",
       "      <th>IncomeBracket</th>\n",
       "    </tr>\n",
       "  </thead>\n",
       "  <tbody>\n",
       "    <tr>\n",
       "      <th>Age</th>\n",
       "      <td>1.000000</td>\n",
       "      <td>-0.072312</td>\n",
       "      <td>0.037492</td>\n",
       "      <td>0.093979</td>\n",
       "      <td>0.050851</td>\n",
       "      <td>0.089963</td>\n",
       "      <td>0.226847</td>\n",
       "    </tr>\n",
       "    <tr>\n",
       "      <th>FinalWeight</th>\n",
       "      <td>-0.072312</td>\n",
       "      <td>1.000000</td>\n",
       "      <td>-0.035815</td>\n",
       "      <td>0.002784</td>\n",
       "      <td>-0.015769</td>\n",
       "      <td>-0.021877</td>\n",
       "      <td>-0.015717</td>\n",
       "    </tr>\n",
       "    <tr>\n",
       "      <th>EducationLvl</th>\n",
       "      <td>0.037492</td>\n",
       "      <td>-0.035815</td>\n",
       "      <td>1.000000</td>\n",
       "      <td>0.122091</td>\n",
       "      <td>0.090433</td>\n",
       "      <td>0.142333</td>\n",
       "      <td>0.290924</td>\n",
       "    </tr>\n",
       "    <tr>\n",
       "      <th>CapitalGain</th>\n",
       "      <td>0.093979</td>\n",
       "      <td>0.002784</td>\n",
       "      <td>0.122091</td>\n",
       "      <td>1.000000</td>\n",
       "      <td>-0.033391</td>\n",
       "      <td>0.072879</td>\n",
       "      <td>0.201353</td>\n",
       "    </tr>\n",
       "    <tr>\n",
       "      <th>CapitalLoss</th>\n",
       "      <td>0.050851</td>\n",
       "      <td>-0.015769</td>\n",
       "      <td>0.090433</td>\n",
       "      <td>-0.033391</td>\n",
       "      <td>1.000000</td>\n",
       "      <td>0.052120</td>\n",
       "      <td>0.148745</td>\n",
       "    </tr>\n",
       "    <tr>\n",
       "      <th>HoursPerWeek</th>\n",
       "      <td>0.089963</td>\n",
       "      <td>-0.021877</td>\n",
       "      <td>0.142333</td>\n",
       "      <td>0.072879</td>\n",
       "      <td>0.052120</td>\n",
       "      <td>1.000000</td>\n",
       "      <td>0.199912</td>\n",
       "    </tr>\n",
       "    <tr>\n",
       "      <th>IncomeBracket</th>\n",
       "      <td>0.226847</td>\n",
       "      <td>-0.015717</td>\n",
       "      <td>0.290924</td>\n",
       "      <td>0.201353</td>\n",
       "      <td>0.148745</td>\n",
       "      <td>0.199912</td>\n",
       "      <td>1.000000</td>\n",
       "    </tr>\n",
       "  </tbody>\n",
       "</table>\n",
       "</div>"
      ],
      "text/plain": [
       "                    Age  FinalWeight  EducationLvl  CapitalGain  CapitalLoss  \\\n",
       "Age            1.000000    -0.072312      0.037492     0.093979     0.050851   \n",
       "FinalWeight   -0.072312     1.000000     -0.035815     0.002784    -0.015769   \n",
       "EducationLvl   0.037492    -0.035815      1.000000     0.122091     0.090433   \n",
       "CapitalGain    0.093979     0.002784      0.122091     1.000000    -0.033391   \n",
       "CapitalLoss    0.050851    -0.015769      0.090433    -0.033391     1.000000   \n",
       "HoursPerWeek   0.089963    -0.021877      0.142333     0.072879     0.052120   \n",
       "IncomeBracket  0.226847    -0.015717      0.290924     0.201353     0.148745   \n",
       "\n",
       "               HoursPerWeek  IncomeBracket  \n",
       "Age                0.089963       0.226847  \n",
       "FinalWeight       -0.021877      -0.015717  \n",
       "EducationLvl       0.142333       0.290924  \n",
       "CapitalGain        0.072879       0.201353  \n",
       "CapitalLoss        0.052120       0.148745  \n",
       "HoursPerWeek       1.000000       0.199912  \n",
       "IncomeBracket      0.199912       1.000000  "
      ]
     },
     "execution_count": 278,
     "metadata": {},
     "output_type": "execute_result"
    }
   ],
   "source": [
    "train.corr()\n",
    "#we have plotted a covariance matrix for the available numerical data, we just need to find the corelation between the all features with that of the Income Bracket"
   ]
  },
  {
   "cell_type": "code",
   "execution_count": 279,
   "metadata": {},
   "outputs": [
    {
     "data": {
      "text/plain": [
       "Age              0.226847\n",
       "FinalWeight     -0.015717\n",
       "EducationLvl     0.290924\n",
       "CapitalGain      0.201353\n",
       "CapitalLoss      0.148745\n",
       "HoursPerWeek     0.199912\n",
       "IncomeBracket    1.000000\n",
       "Name: IncomeBracket, dtype: float64"
      ]
     },
     "execution_count": 279,
     "metadata": {},
     "output_type": "execute_result"
    }
   ],
   "source": [
    "#Correlation with respect to IncomeBracket\n",
    "train.corr().IncomeBracket"
   ]
  },
  {
   "cell_type": "code",
   "execution_count": 281,
   "metadata": {},
   "outputs": [
    {
     "data": {
      "text/plain": [
       "<matplotlib.axes._subplots.AxesSubplot at 0x7fe287449748>"
      ]
     },
     "execution_count": 281,
     "metadata": {},
     "output_type": "execute_result"
    },
    {
     "data": {
      "image/png": "[encoded data removed]",
      "text/plain": [
       "<matplotlib.figure.Figure at 0x7fe28c1ee358>"
      ]
     },
     "metadata": {},
     "output_type": "display_data"
    }
   ],
   "source": [
    "#We plot a heatmap to visualize the corelation between the features and the target \n",
    "f, ax = plt.subplots(figsize=(10, 10))\n",
    "corr = train.corr()\n",
    "sns.heatmap(corr, mask=np.zeros_like(corr, dtype=np.bool), cmap=sns.diverging_palette(220, 10, as_cmap=True),\n",
    "            square=True, ax=ax)"
   ]
  },
  {
   "cell_type": "markdown",
   "metadata": {},
   "source": [
    "# 3. Feature Selection"
   ]
  },
  {
   "cell_type": "code",
   "execution_count": 283,
   "metadata": {},
   "outputs": [
    {
     "name": "stdout",
     "output_type": "stream",
     "text": [
      "United-States    10594\n",
      "Other              927\n",
      "Name: NativeCountry, dtype: int64\n"
     ]
    }
   ],
   "source": [
    "#Since the most dominant variable in NativeCountry is United states and accounts for the 90 % of the data, \n",
    "#we classify the remaining countries as other\n",
    "#This will help while encoding, the dimensionality of the dataset will reduce \n",
    "train['NativeCountry']=['United-States' if i == 'United-States' else 'Other' for i in train['NativeCountry']]\n",
    "print(train['NativeCountry'].value_counts())"
   ]
  },
  {
   "cell_type": "code",
   "execution_count": 284,
   "metadata": {},
   "outputs": [
    {
     "name": "stdout",
     "output_type": "stream",
     "text": [
      "United-States    21096\n",
      "Other             1935\n",
      "Name: NativeCountry, dtype: int64\n"
     ]
    }
   ],
   "source": [
    "#Do the same for test data\n",
    "test['NativeCountry']=['United-States' if j == 'United-States' else 'Other' for j in test['NativeCountry']]\n",
    "print(test['NativeCountry'].value_counts())"
   ]
  },
  {
   "cell_type": "code",
   "execution_count": 285,
   "metadata": {},
   "outputs": [
    {
     "data": {
      "text/plain": [
       "Private             8426\n",
       "Self-emp-not-inc     989\n",
       "Local-gov            792\n",
       "State-gov            488\n",
       "Self-emp-inc         444\n",
       "Federal-gov          378\n",
       "Without-pay            4\n",
       "Name: WorkClass, dtype: int64"
      ]
     },
     "execution_count": 285,
     "metadata": {},
     "output_type": "execute_result"
    }
   ],
   "source": [
    "train.WorkClass.value_counts()"
   ]
  },
  {
   "cell_type": "markdown",
   "metadata": {},
   "source": [
    "Looking at the dirstibution of the variables the WorkClass can be divided into three catogery, Private, Government, SelfEmployed and Others"
   ]
  },
  {
   "cell_type": "code",
   "execution_count": 286,
   "metadata": {
    "collapsed": true
   },
   "outputs": [],
   "source": [
    "#Function for categorising the WorkClass variables\n",
    "import re\n",
    "def workclas(x):\n",
    "    if re.search('Private', x):\n",
    "        return 'Private'\n",
    "    elif re.search('Self', x):\n",
    "        return 'selfempl'\n",
    "    elif re.search('gov', x):\n",
    "        return 'gov'\n",
    "    else:\n",
    "        return 'others'"
   ]
  },
  {
   "cell_type": "code",
   "execution_count": 287,
   "metadata": {},
   "outputs": [],
   "source": [
    "#categorising the Workclass column as WorkClass_cat in train and test set\n",
    "train['WorkClass_cat']=train.WorkClass.apply(lambda x: x.strip()).apply(lambda x: workclas(x))\n",
    "test['WorKClass_cat']=test.WorkClass.apply(lambda x: x.strip()).apply(lambda x: workclas(x))"
   ]
  },
  {
   "cell_type": "code",
   "execution_count": 288,
   "metadata": {},
   "outputs": [
    {
     "data": {
      "text/plain": [
       "Private     8426\n",
       "gov         1658\n",
       "selfempl    1433\n",
       "others         4\n",
       "Name: WorkClass_cat, dtype: int64"
      ]
     },
     "execution_count": 288,
     "metadata": {},
     "output_type": "execute_result"
    }
   ],
   "source": [
    "#Work calss is divided into four classes (Private, Gov, Selfempl and Others)\n",
    "train['WorkClass_cat'].value_counts()"
   ]
  },
  {
   "cell_type": "code",
   "execution_count": 289,
   "metadata": {},
   "outputs": [
    {
     "name": "stdout",
     "output_type": "stream",
     "text": [
      "(23031, 16)\n",
      "(11521, 16)\n"
     ]
    }
   ],
   "source": [
    "print(test.shape)\n",
    "print(train.shape)"
   ]
  },
  {
   "cell_type": "code",
   "execution_count": 290,
   "metadata": {
    "collapsed": true
   },
   "outputs": [],
   "source": [
    "#We delete the initial column of the WorkClass in both train and test data\n",
    "train=train.drop('WorkClass',1)\n",
    "test=test.drop('WorkClass',1)"
   ]
  },
  {
   "cell_type": "code",
   "execution_count": 291,
   "metadata": {},
   "outputs": [
    {
     "name": "stdout",
     "output_type": "stream",
     "text": [
      "(23031, 15)\n",
      "(11521, 15)\n"
     ]
    }
   ],
   "source": [
    "print(test.shape)\n",
    "print(train.shape)"
   ]
  },
  {
   "cell_type": "code",
   "execution_count": 292,
   "metadata": {
    "collapsed": true
   },
   "outputs": [],
   "source": [
    "#Addition of new feature - NetCapitalGain which is CapitalGain - CapitalLoss(From the definition)\n",
    "train['NetCapitalGain']=train.CapitalGain-train.CapitalLoss\n",
    "test['NetCapitalGain']=test.CapitalGain-test.CapitalLoss"
   ]
  },
  {
   "cell_type": "code",
   "execution_count": 293,
   "metadata": {},
   "outputs": [
    {
     "name": "stdout",
     "output_type": "stream",
     "text": [
      "(23031, 16)\n",
      "(11521, 16)\n"
     ]
    }
   ],
   "source": [
    "print(test.shape)\n",
    "print(train.shape)"
   ]
  },
  {
   "cell_type": "code",
   "execution_count": 294,
   "metadata": {},
   "outputs": [],
   "source": [
    "#Since we have added the few feature by combining the othe two exisitng features, we can delete them\n",
    "train = train.drop('CapitalGain', 1)\n",
    "train=train.drop('CapitalLoss',1)\n",
    "test=test.drop('CapitalGain',1)\n",
    "test=test.drop('CapitalLoss',1)"
   ]
  },
  {
   "cell_type": "code",
   "execution_count": 295,
   "metadata": {},
   "outputs": [
    {
     "name": "stdout",
     "output_type": "stream",
     "text": [
      "(23031, 14)\n",
      "(11521, 14)\n"
     ]
    }
   ],
   "source": [
    "print(test.shape)\n",
    "print(train.shape)"
   ]
  },
  {
   "cell_type": "code",
   "execution_count": 296,
   "metadata": {
    "collapsed": true
   },
   "outputs": [],
   "source": [
    "# Futher the EducationLvl is just a numeric indicator of Education, Hence I am deleting the Education feature in test and train data\n",
    "train=train.drop('Education',1)"
   ]
  },
  {
   "cell_type": "code",
   "execution_count": 297,
   "metadata": {
    "collapsed": true
   },
   "outputs": [],
   "source": [
    "test=test.drop(\"Education\",1)"
   ]
  },
  {
   "cell_type": "code",
   "execution_count": 298,
   "metadata": {},
   "outputs": [
    {
     "name": "stdout",
     "output_type": "stream",
     "text": [
      "(23031, 13)\n",
      "(11521, 13)\n"
     ]
    }
   ],
   "source": [
    "print(test.shape)\n",
    "print(train.shape)"
   ]
  },
  {
   "cell_type": "markdown",
   "metadata": {},
   "source": [
    "# 4. Model Implementation"
   ]
  },
  {
   "cell_type": "markdown",
   "metadata": {},
   "source": [
    "##  4a. Logistic Regression"
   ]
  },
  {
   "cell_type": "code",
   "execution_count": 299,
   "metadata": {
    "collapsed": true
   },
   "outputs": [],
   "source": [
    "#We are Encoding Now"
   ]
  },
  {
   "cell_type": "code",
   "execution_count": 300,
   "metadata": {
    "collapsed": true
   },
   "outputs": [],
   "source": [
    "train=pd.get_dummies(train)\n",
    "test=pd.get_dummies(test)"
   ]
  },
  {
   "cell_type": "code",
   "execution_count": 301,
   "metadata": {},
   "outputs": [],
   "source": [
    "import sklearn\n",
    "from sklearn.linear_model import LogisticRegression\n",
    "from sklearn.model_selection import train_test_split\n",
    "from sklearn.metrics import make_scorer, accuracy_score"
   ]
  },
  {
   "cell_type": "code",
   "execution_count": 302,
   "metadata": {},
   "outputs": [],
   "source": [
    "y=train.IncomeBracket #Target Value\n",
    "X=train.drop(['IncomeBracket'],axis=1) #Feature Variable\n",
    "X_train,  X_test, y_train, y_test=train_test_split(X,y, random_state=21, test_size=0.20) #Spliting the scores between testing and trainig set"
   ]
  },
  {
   "cell_type": "code",
   "execution_count": 303,
   "metadata": {},
   "outputs": [
    {
     "name": "stdout",
     "output_type": "stream",
     "text": [
      "(9216, 45)\n",
      "(9216,)\n",
      "(2305, 45)\n",
      "(2305,)\n"
     ]
    }
   ],
   "source": [
    "print(X_train.shape)\n",
    "print(y_train.shape)\n",
    "print(X_test.shape)\n",
    "print(y_test.shape)"
   ]
  },
  {
   "cell_type": "code",
   "execution_count": 304,
   "metadata": {},
   "outputs": [],
   "source": [
    "#implementing the logistic regression model\n",
    "lg = LogisticRegression()\n",
    "model=lg.fit(X_train, y_train)"
   ]
  },
  {
   "cell_type": "code",
   "execution_count": 305,
   "metadata": {},
   "outputs": [
    {
     "name": "stdout",
     "output_type": "stream",
     "text": [
      "0.757917570499\n"
     ]
    }
   ],
   "source": [
    "#Calculating the accuracy scores without using cross validation\n",
    "yscore=lg.predict(X_test)\n",
    "print(accuracy_score(y_test, yscore))"
   ]
  },
  {
   "cell_type": "code",
   "execution_count": 306,
   "metadata": {
    "collapsed": true
   },
   "outputs": [],
   "source": [
    "#Cross Validation for logistic regression\n",
    "from sklearn.cross_validation import cross_val_score, cross_val_predict\n",
    "from sklearn import metrics"
   ]
  },
  {
   "cell_type": "code",
   "execution_count": 307,
   "metadata": {},
   "outputs": [
    {
     "name": "stdout",
     "output_type": "stream",
     "text": [
      "Cross-validated scores: [ 0.75628794  0.76409367  0.75715525  0.75802255  0.75888985  0.76041667\n",
      "  0.75694444  0.75847089  0.75586447  0.76086957]\n"
     ]
    }
   ],
   "source": [
    "#Printing Cross Validated Scores\n",
    "scores = cross_val_score(model, X, y, cv=10)\n",
    "print('Cross-validated scores:', scores)"
   ]
  },
  {
   "cell_type": "code",
   "execution_count": 308,
   "metadata": {},
   "outputs": [
    {
     "data": {
      "text/plain": [
       "0.75870152996772544"
      ]
     },
     "execution_count": 308,
     "metadata": {},
     "output_type": "execute_result"
    }
   ],
   "source": [
    "#Mean Scores \n",
    "np.mean(scores)"
   ]
  },
  {
   "cell_type": "markdown",
   "metadata": {},
   "source": [
    "## 4b. Decision Tree"
   ]
  },
  {
   "cell_type": "code",
   "execution_count": 310,
   "metadata": {
    "collapsed": true
   },
   "outputs": [],
   "source": [
    "#Importing Necessary Libraries\n",
    "from sklearn.tree import DecisionTreeClassifier\n",
    "dtree = DecisionTreeClassifier()"
   ]
  },
  {
   "cell_type": "code",
   "execution_count": 311,
   "metadata": {},
   "outputs": [
    {
     "data": {
      "text/plain": [
       "DecisionTreeClassifier(class_weight=None, criterion='gini', max_depth=None,\n",
       "            max_features=None, max_leaf_nodes=None,\n",
       "            min_impurity_decrease=0.0, min_impurity_split=None,\n",
       "            min_samples_leaf=1, min_samples_split=2,\n",
       "            min_weight_fraction_leaf=0.0, presort=False, random_state=None,\n",
       "            splitter='best')"
      ]
     },
     "execution_count": 311,
     "metadata": {},
     "output_type": "execute_result"
    }
   ],
   "source": [
    "dtree.fit(X_train,y_train)"
   ]
  },
  {
   "cell_type": "code",
   "execution_count": 312,
   "metadata": {},
   "outputs": [
    {
     "data": {
      "text/plain": [
       "0.73275488069414318"
      ]
     },
     "execution_count": 312,
     "metadata": {},
     "output_type": "execute_result"
    }
   ],
   "source": [
    "#accuracy scores withour cross validation\n",
    "accuracy_score(y_test, dtree.predict(X_test))"
   ]
  },
  {
   "cell_type": "code",
   "execution_count": 313,
   "metadata": {},
   "outputs": [
    {
     "name": "stdout",
     "output_type": "stream",
     "text": [
      "Cross-validated scores: [ 0.72853426  0.72766696  0.72593235  0.71465742  0.72679965  0.71267361\n",
      "  0.69184028  0.72371851  0.72458732  0.71565217]\n",
      "Mean Accuracy: 0.719206251696\n"
     ]
    }
   ],
   "source": [
    "#cross validated accuracy scores\n",
    "score = cross_val_score(dtree, X, y, cv=10)\n",
    "print('Cross-validated scores:', score)\n",
    "print('Mean Accuracy:', np.mean(score))"
   ]
  },
  {
   "cell_type": "code",
   "execution_count": 314,
   "metadata": {},
   "outputs": [
    {
     "name": "stdout",
     "output_type": "stream",
     "text": [
      "Fold 1 accuracy: 0.7328707718993929\n",
      "Fold 2 accuracy: 0.7248263888888888\n",
      "Fold 3 accuracy: 0.7204861111111112\n",
      "Fold 4 accuracy: 0.7005208333333334\n",
      "Fold 5 accuracy: 0.7300347222222222\n",
      "Fold 6 accuracy: 0.7170138888888888\n",
      "Fold 7 accuracy: 0.6961805555555556\n",
      "Fold 8 accuracy: 0.7196180555555556\n",
      "Fold 9 accuracy: 0.7291666666666666\n",
      "Fold 10 accuracy: 0.7048611111111112\n",
      "Mean Accuracy: 0.7175579105232727\n",
      "variance:  0.000149932508632\n"
     ]
    }
   ],
   "source": [
    "from sklearn.cross_validation import KFold\n",
    "\n",
    "def run_kfold(dtree):\n",
    "      \n",
    "    kf = KFold(11521, n_folds=10)\n",
    "    \n",
    "    AScore = []\n",
    "    fold = 0\n",
    "    \n",
    "    for train_index, test_index in kf:\n",
    "        fold += 1\n",
    "        X_train, X_test = X.values[train_index], X.values[test_index]\n",
    "        y_train, y_test = y.values[train_index], y.values[test_index]\n",
    "        \n",
    "        dtree.fit(X_train, y_train)\n",
    "        predictions = dtree.predict(X_test)\n",
    "        \n",
    "        accuracy = accuracy_score(y_test, predictions)\n",
    "        AScore.append(accuracy)\n",
    "        print(\"Fold {0} accuracy: {1}\".format(fold, accuracy))   \n",
    "        \n",
    "    mean = np.mean(AScore)\n",
    "    print(\"Mean Accuracy: {0}\".format(mean)) \n",
    "    variance = np.var(AScore)\n",
    "    print('variance: ' ,variance)\n",
    "\n",
    "\n",
    "run_kfold(dtree)"
   ]
  },
  {
   "cell_type": "markdown",
   "metadata": {},
   "source": [
    "## 4c. Gradient Boosting"
   ]
  },
  {
   "cell_type": "code",
   "execution_count": 356,
   "metadata": {},
   "outputs": [],
   "source": [
    "from sklearn.ensemble import GradientBoostingClassifier\n",
    "gb = GradientBoostingClassifier()"
   ]
  },
  {
   "cell_type": "code",
   "execution_count": 357,
   "metadata": {
    "collapsed": true
   },
   "outputs": [],
   "source": [
    "mod=gb.fit(X_train, y_train)"
   ]
  },
  {
   "cell_type": "code",
   "execution_count": 316,
   "metadata": {},
   "outputs": [
    {
     "data": {
      "text/plain": [
       "0.78134490238611709"
      ]
     },
     "execution_count": 316,
     "metadata": {},
     "output_type": "execute_result"
    }
   ],
   "source": [
    "#Accuracy without cross validation\n",
    "accuracy_score(y_test, gb.predict(X_test))"
   ]
  },
  {
   "cell_type": "code",
   "execution_count": 318,
   "metadata": {},
   "outputs": [
    {
     "name": "stdout",
     "output_type": "stream",
     "text": [
      "Cross-validated scores: [ 0.79358196  0.78664354  0.79791847  0.79184735  0.8065915   0.796875\n",
      "  0.78732639  0.80625543  0.80538662  0.79826087]\n",
      "Mean Accuracy: 0.797068713625\n"
     ]
    }
   ],
   "source": [
    "#Crossvalidated accuracy\n",
    "scores = cross_val_score(mod, X, y, cv=10)\n",
    "print('Cross-validated scores:', scores)\n",
    "print('Mean Accuracy:', np.mean(scores))"
   ]
  },
  {
   "cell_type": "code",
   "execution_count": 319,
   "metadata": {},
   "outputs": [
    {
     "name": "stdout",
     "output_type": "stream",
     "text": [
      "Fold 1 accuracy: 0.797918473547268\n",
      "Fold 2 accuracy: 0.7934027777777778\n",
      "Fold 3 accuracy: 0.7838541666666666\n",
      "Fold 4 accuracy: 0.8029513888888888\n",
      "Fold 5 accuracy: 0.8029513888888888\n",
      "Fold 6 accuracy: 0.7986111111111112\n",
      "Fold 7 accuracy: 0.7899305555555556\n",
      "Fold 8 accuracy: 0.8046875\n",
      "Fold 9 accuracy: 0.8116319444444444\n",
      "Fold 10 accuracy: 0.7890625\n",
      "Mean Accuracy: 0.7975001806880602\n",
      "variance:  6.43700872098e-05\n"
     ]
    }
   ],
   "source": [
    "from sklearn.cross_validation import KFold\n",
    "\n",
    "def run_kfold(gb):\n",
    "    \n",
    "  \n",
    "    kf = KFold(11521, n_folds=10)\n",
    "    \n",
    "    AScores = []\n",
    "    fold = 0\n",
    "    \n",
    "    for train_index, test_index in kf:\n",
    "        fold += 1\n",
    "        X_train, X_test = X.values[train_index], X.values[test_index]\n",
    "        y_train, y_test = y.values[train_index], y.values[test_index]\n",
    "        \n",
    "        gb.fit(X_train, y_train)\n",
    "        predictions = gb.predict(X_test)\n",
    "        \n",
    "        accuracy = accuracy_score(y_test, predictions)\n",
    "        AScores.append(accuracy)\n",
    "        print(\"Fold {0} accuracy: {1}\".format(fold, accuracy))   \n",
    "        \n",
    "    mean = np.mean(AScores)\n",
    "    print(\"Mean Accuracy: {0}\".format(mean)) \n",
    "    variance = np.var(AScores)\n",
    "    print('variance: ' ,variance)\n",
    "\n",
    "\n",
    "run_kfold(gb)"
   ]
  },
  {
   "cell_type": "markdown",
   "metadata": {},
   "source": [
    "## 4d. Random Forest"
   ]
  },
  {
   "cell_type": "code",
   "execution_count": 320,
   "metadata": {
    "collapsed": true
   },
   "outputs": [],
   "source": [
    "from sklearn.ensemble import RandomForestClassifier"
   ]
  },
  {
   "cell_type": "code",
   "execution_count": 321,
   "metadata": {},
   "outputs": [
    {
     "data": {
      "text/plain": [
       "RandomForestClassifier(bootstrap=True, class_weight=None, criterion='gini',\n",
       "            max_depth=None, max_features='auto', max_leaf_nodes=None,\n",
       "            min_impurity_decrease=0.0, min_impurity_split=None,\n",
       "            min_samples_leaf=1, min_samples_split=2,\n",
       "            min_weight_fraction_leaf=0.0, n_estimators=10, n_jobs=1,\n",
       "            oob_score=False, random_state=None, verbose=0,\n",
       "            warm_start=False)"
      ]
     },
     "execution_count": 321,
     "metadata": {},
     "output_type": "execute_result"
    }
   ],
   "source": [
    "rf=RandomForestClassifier()\n",
    "rf.fit(X_train, y_train)"
   ]
  },
  {
   "cell_type": "code",
   "execution_count": 322,
   "metadata": {},
   "outputs": [
    {
     "data": {
      "text/plain": [
       "0.76312364425162693"
      ]
     },
     "execution_count": 322,
     "metadata": {},
     "output_type": "execute_result"
    }
   ],
   "source": [
    "#Accuracy without cross validation\n",
    "accuracy_score(y_test, rf.predict(X_test))"
   ]
  },
  {
   "cell_type": "code",
   "execution_count": 323,
   "metadata": {},
   "outputs": [
    {
     "name": "stdout",
     "output_type": "stream",
     "text": [
      "Cross-validated scores: [ 0.78317433  0.75281873  0.76756288  0.76496097  0.7745013   0.76649306\n",
      "  0.76041667  0.76542137  0.77497828  0.7626087 ]\n",
      "Mean Accuracy: 0.767293628371\n"
     ]
    }
   ],
   "source": [
    "#Crossvalidated accuracy\n",
    "scores = cross_val_score(rf, X, y, cv=10)\n",
    "print('Cross-validated scores:', scores)\n",
    "print('Mean Accuracy:', np.mean(scores))"
   ]
  },
  {
   "cell_type": "code",
   "execution_count": 324,
   "metadata": {},
   "outputs": [
    {
     "name": "stdout",
     "output_type": "stream",
     "text": [
      "Fold 1 accuracy: 0.7710320901994796\n",
      "Fold 2 accuracy: 0.765625\n",
      "Fold 3 accuracy: 0.7734375\n",
      "Fold 4 accuracy: 0.7786458333333334\n",
      "Fold 5 accuracy: 0.7717013888888888\n",
      "Fold 6 accuracy: 0.7595486111111112\n",
      "Fold 7 accuracy: 0.7647569444444444\n",
      "Fold 8 accuracy: 0.7734375\n",
      "Fold 9 accuracy: 0.7604166666666666\n",
      "Fold 10 accuracy: 0.7612847222222222\n",
      "Mean Accuracy: 0.7679886256866146\n",
      "variance:  3.8554504536e-05\n"
     ]
    }
   ],
   "source": [
    "from sklearn.cross_validation import KFold\n",
    "\n",
    "def run_kfold(rf):\n",
    "    \n",
    "  \n",
    "    kf = KFold(11521, n_folds=10)\n",
    "    \n",
    "    outcomes = []\n",
    "    fold = 0\n",
    "    \n",
    "    for train_index, test_index in kf:\n",
    "        fold += 1\n",
    "        X_train, X_test = X.values[train_index], X.values[test_index]\n",
    "        y_train, y_test = y.values[train_index], y.values[test_index]\n",
    "        \n",
    "        rf.fit(X_train, y_train)\n",
    "        predictions = rf.predict(X_test)\n",
    "        \n",
    "        accuracy = accuracy_score(y_test, predictions)\n",
    "        outcomes.append(accuracy)\n",
    "        print(\"Fold {0} accuracy: {1}\".format(fold, accuracy))   \n",
    "        \n",
    "    mean_outcome = np.mean(outcomes)\n",
    "    print(\"Mean Accuracy: {0}\".format(mean_outcome)) \n",
    "    variance = np.var(outcomes)\n",
    "    print('variance: ' ,variance)\n",
    "\n",
    "run_kfold(rf)"
   ]
  },
  {
   "cell_type": "markdown",
   "metadata": {},
   "source": [
    "## 4e. SVM"
   ]
  },
  {
   "cell_type": "code",
   "execution_count": 325,
   "metadata": {},
   "outputs": [
    {
     "data": {
      "text/plain": [
       "SVC(C=1.0, cache_size=200, class_weight=None, coef0=0.0,\n",
       "  decision_function_shape='ovr', degree=3, gamma='auto', kernel='rbf',\n",
       "  max_iter=-1, probability=False, random_state=None, shrinking=True,\n",
       "  tol=0.001, verbose=False)"
      ]
     },
     "execution_count": 325,
     "metadata": {},
     "output_type": "execute_result"
    }
   ],
   "source": [
    "from sklearn import svm\n",
    "sv=svm.SVC()\n",
    "sv.fit(X_train, y_train)"
   ]
  },
  {
   "cell_type": "code",
   "execution_count": 326,
   "metadata": {},
   "outputs": [
    {
     "data": {
      "text/plain": [
       "0.73796095444685461"
      ]
     },
     "execution_count": 326,
     "metadata": {},
     "output_type": "execute_result"
    }
   ],
   "source": [
    "accuracy_score(y_test, sv.predict(X_test))"
   ]
  },
  {
   "cell_type": "code",
   "execution_count": 327,
   "metadata": {},
   "outputs": [
    {
     "name": "stdout",
     "output_type": "stream",
     "text": [
      "Cross-validated scores: [ 0.73763665  0.73697917  0.73795259]\n",
      "Mean Accuracy: 0.737522802022\n"
     ]
    }
   ],
   "source": [
    "#Crossvalidated accuracy\n",
    "scores = cross_val_score(sv, X, y, cv=3)\n",
    "print('Cross-validated scores:', scores)\n",
    "print('Mean Accuracy:', np.mean(scores))"
   ]
  },
  {
   "cell_type": "markdown",
   "metadata": {},
   "source": [
    "# 5. Model Tuning"
   ]
  },
  {
   "cell_type": "markdown",
   "metadata": {},
   "source": [
    "## 5a. Logistic Regression"
   ]
  },
  {
   "cell_type": "code",
   "execution_count": 328,
   "metadata": {
    "collapsed": true
   },
   "outputs": [],
   "source": [
    "from sklearn.model_selection import GridSearchCV"
   ]
  },
  {
   "cell_type": "code",
   "execution_count": 329,
   "metadata": {
    "collapsed": true
   },
   "outputs": [],
   "source": [
    "#initiating the model\n",
    "lg = LogisticRegression(random_state=42, penalty='l1')"
   ]
  },
  {
   "cell_type": "code",
   "execution_count": 342,
   "metadata": {},
   "outputs": [],
   "source": [
    "#the parameter that we want to choose from \n",
    "parameters = {'C':[0.1,0.2,0.4,0.5,0.6]}"
   ]
  },
  {
   "cell_type": "code",
   "execution_count": 343,
   "metadata": {
    "collapsed": true
   },
   "outputs": [],
   "source": [
    "acc_scorer_lg = make_scorer(accuracy_score)"
   ]
  },
  {
   "cell_type": "code",
   "execution_count": 344,
   "metadata": {
    "collapsed": true
   },
   "outputs": [],
   "source": [
    "#Grid searching \n",
    "grid_obj_lg = GridSearchCV(lg, parameters, scoring=acc_scorer_lg)\n",
    "grid_obj_lg = grid_obj_lg.fit(X_train, y_train)"
   ]
  },
  {
   "cell_type": "code",
   "execution_count": 345,
   "metadata": {
    "collapsed": true
   },
   "outputs": [],
   "source": [
    "#Finding the best model based on gridsearched\n",
    "lg = grid_obj_lg.best_estimator_"
   ]
  },
  {
   "cell_type": "code",
   "execution_count": 346,
   "metadata": {},
   "outputs": [
    {
     "data": {
      "text/plain": [
       "LogisticRegression(C=0.4, class_weight=None, dual=False, fit_intercept=True,\n",
       "          intercept_scaling=1, max_iter=100, multi_class='ovr', n_jobs=1,\n",
       "          penalty='l1', random_state=42, solver='liblinear', tol=0.0001,\n",
       "          verbose=0, warm_start=False)"
      ]
     },
     "execution_count": 346,
     "metadata": {},
     "output_type": "execute_result"
    }
   ],
   "source": [
    "#Fitting the model based in the best estimator\n",
    "lg.fit(X_train, y_train)"
   ]
  },
  {
   "cell_type": "code",
   "execution_count": 348,
   "metadata": {},
   "outputs": [
    {
     "data": {
      "text/plain": [
       "0.77006507592190887"
      ]
     },
     "execution_count": 348,
     "metadata": {},
     "output_type": "execute_result"
    }
   ],
   "source": [
    "#Finding the accuracy scores\n",
    "accuracy_score(y_test, lg.predict(X_test))"
   ]
  },
  {
   "cell_type": "code",
   "execution_count": 381,
   "metadata": {},
   "outputs": [
    {
     "data": {
      "text/plain": [
       "array([[1612,   95,    0],\n",
       "       [ 228,  163,    0],\n",
       "       [ 126,   81,    0]])"
      ]
     },
     "execution_count": 381,
     "metadata": {},
     "output_type": "execute_result"
    }
   ],
   "source": [
    "#The confusion matrix\n",
    "sklearn.metrics.confusion_matrix(y_test, lg.predict(X_test))"
   ]
  },
  {
   "cell_type": "markdown",
   "metadata": {},
   "source": [
    "## 5b.Decision Tree"
   ]
  },
  {
   "cell_type": "code",
   "execution_count": 349,
   "metadata": {
    "collapsed": true
   },
   "outputs": [],
   "source": [
    "#initiating the model\n",
    "dt=DecisionTreeClassifier()"
   ]
  },
  {
   "cell_type": "code",
   "execution_count": 350,
   "metadata": {
    "collapsed": true
   },
   "outputs": [],
   "source": [
    "#the parameter that we want to choose from \n",
    "parameters = {\"criterion\": [\"gini\", \"entropy\"],\n",
    "              \"min_samples_split\": [2, 5,10, 20],\n",
    "              \"max_depth\": [None, 2, 5, 7,10],\n",
    "              \"min_samples_leaf\": [1, 5, 10],\n",
    "              \"max_leaf_nodes\": [None, 5, 10, 20],\n",
    "              }"
   ]
  },
  {
   "cell_type": "code",
   "execution_count": 351,
   "metadata": {
    "collapsed": true
   },
   "outputs": [],
   "source": [
    "acc_scorer_dt = make_scorer(accuracy_score)"
   ]
  },
  {
   "cell_type": "code",
   "execution_count": 352,
   "metadata": {},
   "outputs": [],
   "source": [
    "#Grid Searching algorithm\n",
    "grid_obj_dt = GridSearchCV(dt, parameters, scoring=acc_scorer_dt)\n",
    "grid_obj_dt = grid_obj_dt.fit(X_train, y_train)"
   ]
  },
  {
   "cell_type": "code",
   "execution_count": 353,
   "metadata": {
    "collapsed": true
   },
   "outputs": [],
   "source": [
    "#Finding the best model based on gridsearched\n",
    "dt = grid_obj_dt.best_estimator_"
   ]
  },
  {
   "cell_type": "code",
   "execution_count": 354,
   "metadata": {},
   "outputs": [
    {
     "data": {
      "text/plain": [
       "DecisionTreeClassifier(class_weight=None, criterion='gini', max_depth=7,\n",
       "            max_features=None, max_leaf_nodes=20,\n",
       "            min_impurity_decrease=0.0, min_impurity_split=None,\n",
       "            min_samples_leaf=1, min_samples_split=2,\n",
       "            min_weight_fraction_leaf=0.0, presort=False, random_state=None,\n",
       "            splitter='best')"
      ]
     },
     "execution_count": 354,
     "metadata": {},
     "output_type": "execute_result"
    }
   ],
   "source": [
    "#Fitting the model based in the best estimator\n",
    "dt.fit(X_train, y_train)"
   ]
  },
  {
   "cell_type": "code",
   "execution_count": 355,
   "metadata": {},
   "outputs": [
    {
     "data": {
      "text/plain": [
       "0.77613882863340566"
      ]
     },
     "execution_count": 355,
     "metadata": {},
     "output_type": "execute_result"
    }
   ],
   "source": [
    "accuracy_score(y_test, dt.predict(X_test))"
   ]
  },
  {
   "cell_type": "code",
   "execution_count": 380,
   "metadata": {},
   "outputs": [
    {
     "data": {
      "text/plain": [
       "array([[1602,  105,    0],\n",
       "       [ 204,  187,    0],\n",
       "       [ 100,  107,    0]])"
      ]
     },
     "execution_count": 380,
     "metadata": {},
     "output_type": "execute_result"
    }
   ],
   "source": [
    "#The confusion matrix\n",
    "sklearn.metrics.confusion_matrix(y_test, dt.predict(X_test))"
   ]
  },
  {
   "cell_type": "markdown",
   "metadata": {},
   "source": [
    "## 5c. Gradient Boosing"
   ]
  },
  {
   "cell_type": "code",
   "execution_count": 358,
   "metadata": {
    "collapsed": true
   },
   "outputs": [],
   "source": [
    "#initiating the model\n",
    "gb = GradientBoostingClassifier()"
   ]
  },
  {
   "cell_type": "code",
   "execution_count": 359,
   "metadata": {
    "collapsed": true
   },
   "outputs": [],
   "source": [
    "#the parameter that we want to choose from \n",
    "parameters = {'learning_rate': [0.1, 0.05, 0.02],\n",
    "              'max_depth': [4, 6, 8],\n",
    "              'min_samples_leaf': [20,30, 40,],\n",
    "              'max_features': [1.0, 0.3, 0.1] \n",
    "              }           "
   ]
  },
  {
   "cell_type": "code",
   "execution_count": 360,
   "metadata": {
    "collapsed": true
   },
   "outputs": [],
   "source": [
    "acc_scorer_gb = make_scorer(accuracy_score)"
   ]
  },
  {
   "cell_type": "code",
   "execution_count": 361,
   "metadata": {},
   "outputs": [],
   "source": [
    "#Grid Searching algorithm\n",
    "grid_obj_gb = GridSearchCV(gb, parameters, scoring=acc_scorer_gb)\n",
    "grid_obj_gb = grid_obj_gb.fit(X_train, y_train)"
   ]
  },
  {
   "cell_type": "code",
   "execution_count": 362,
   "metadata": {
    "collapsed": true
   },
   "outputs": [],
   "source": [
    "#Finding the best model based on gridsearched\n",
    "gb = grid_obj_gb.best_estimator_"
   ]
  },
  {
   "cell_type": "code",
   "execution_count": 363,
   "metadata": {},
   "outputs": [
    {
     "data": {
      "text/plain": [
       "GradientBoostingClassifier(criterion='friedman_mse', init=None,\n",
       "              learning_rate=0.02, loss='deviance', max_depth=8,\n",
       "              max_features=0.3, max_leaf_nodes=None,\n",
       "              min_impurity_decrease=0.0, min_impurity_split=None,\n",
       "              min_samples_leaf=20, min_samples_split=2,\n",
       "              min_weight_fraction_leaf=0.0, n_estimators=100,\n",
       "              presort='auto', random_state=None, subsample=1.0, verbose=0,\n",
       "              warm_start=False)"
      ]
     },
     "execution_count": 363,
     "metadata": {},
     "output_type": "execute_result"
    }
   ],
   "source": [
    "#Fitting the model based in the best estimator\n",
    "gb.fit(X_train, y_train)"
   ]
  },
  {
   "cell_type": "code",
   "execution_count": 364,
   "metadata": {},
   "outputs": [
    {
     "data": {
      "text/plain": [
       "0.78394793926247286"
      ]
     },
     "execution_count": 364,
     "metadata": {},
     "output_type": "execute_result"
    }
   ],
   "source": [
    "accuracy_score(y_test, gb.predict(X_test))"
   ]
  },
  {
   "cell_type": "code",
   "execution_count": 379,
   "metadata": {},
   "outputs": [
    {
     "data": {
      "text/plain": [
       "array([[1635,   71,    1],\n",
       "       [ 217,  169,    5],\n",
       "       [ 115,   89,    3]])"
      ]
     },
     "execution_count": 379,
     "metadata": {},
     "output_type": "execute_result"
    }
   ],
   "source": [
    "#The confusion matrix\n",
    "sklearn.metrics.confusion_matrix(y_test, gb.predict(X_test))"
   ]
  },
  {
   "cell_type": "markdown",
   "metadata": {},
   "source": [
    "## 5d. Random Forest"
   ]
  },
  {
   "cell_type": "code",
   "execution_count": 365,
   "metadata": {
    "collapsed": true
   },
   "outputs": [],
   "source": [
    "#initiating the model\n",
    "rf = RandomForestClassifier()"
   ]
  },
  {
   "cell_type": "code",
   "execution_count": 366,
   "metadata": {
    "collapsed": true
   },
   "outputs": [],
   "source": [
    "#the parameter that we want to choose from \n",
    "parameters = {'n_estimators': [4, 6, 9], \n",
    "              'max_features': ['log2', 'sqrt','auto'], \n",
    "              'criterion': ['entropy', 'gini'],\n",
    "              'max_depth': [2, 3, 5, 10], \n",
    "              'min_samples_split': [2, 3, 5],\n",
    "              'min_samples_leaf': [1,5,8]\n",
    "             }"
   ]
  },
  {
   "cell_type": "code",
   "execution_count": 367,
   "metadata": {},
   "outputs": [],
   "source": [
    "acc_scorer = make_scorer(accuracy_score)"
   ]
  },
  {
   "cell_type": "code",
   "execution_count": 368,
   "metadata": {
    "collapsed": true
   },
   "outputs": [],
   "source": [
    "#Grid Searching algorithm\n",
    "grid_obj = GridSearchCV(clf, parameters, scoring=acc_scorer)\n",
    "grid_obj = grid_obj.fit(X_train, y_train)"
   ]
  },
  {
   "cell_type": "code",
   "execution_count": 369,
   "metadata": {
    "collapsed": true
   },
   "outputs": [],
   "source": [
    "#Finding the best model based on gridsearched\n",
    "rf = grid_obj.best_estimator_"
   ]
  },
  {
   "cell_type": "code",
   "execution_count": 370,
   "metadata": {},
   "outputs": [
    {
     "data": {
      "text/plain": [
       "RandomForestClassifier(bootstrap=True, class_weight=None, criterion='gini',\n",
       "            max_depth=10, max_features='auto', max_leaf_nodes=None,\n",
       "            min_impurity_decrease=0.0, min_impurity_split=None,\n",
       "            min_samples_leaf=8, min_samples_split=5,\n",
       "            min_weight_fraction_leaf=0.0, n_estimators=9, n_jobs=1,\n",
       "            oob_score=False, random_state=None, verbose=0,\n",
       "            warm_start=False)"
      ]
     },
     "execution_count": 370,
     "metadata": {},
     "output_type": "execute_result"
    }
   ],
   "source": [
    "#Fitting the model based in the best estimator\n",
    "rf.fit(X_train, y_train)"
   ]
  },
  {
   "cell_type": "code",
   "execution_count": 371,
   "metadata": {
    "collapsed": true
   },
   "outputs": [],
   "source": [
    "predict=rf.predict(X_test)"
   ]
  },
  {
   "cell_type": "code",
   "execution_count": 372,
   "metadata": {},
   "outputs": [
    {
     "data": {
      "text/plain": [
       "0.77527114967462041"
      ]
     },
     "execution_count": 372,
     "metadata": {},
     "output_type": "execute_result"
    }
   ],
   "source": [
    "accuracy_score(y_test, predictions)"
   ]
  },
  {
   "cell_type": "code",
   "execution_count": 378,
   "metadata": {},
   "outputs": [
    {
     "data": {
      "text/plain": [
       "array([[1600,  106,    1],\n",
       "       [ 203,  187,    1],\n",
       "       [  99,  108,    0]])"
      ]
     },
     "execution_count": 378,
     "metadata": {},
     "output_type": "execute_result"
    }
   ],
   "source": [
    "#The confusion matrix\n",
    "sklearn.metrics.confusion_matrix(y_test, predictions)"
   ]
  },
  {
   "cell_type": "markdown",
   "metadata": {
    "collapsed": true
   },
   "source": [
    "# 6 Testing"
   ]
  },
  {
   "cell_type": "markdown",
   "metadata": {},
   "source": [
    "###### Since we achieved highest accuracy in Gradient Boosing, we use gradient boosing to predict out testing set"
   ]
  },
  {
   "cell_type": "code",
   "execution_count": 373,
   "metadata": {},
   "outputs": [
    {
     "data": {
      "text/plain": [
       "0.8062611263080196"
      ]
     },
     "execution_count": 373,
     "metadata": {},
     "output_type": "execute_result"
    }
   ],
   "source": [
    "b = test.IncomeBracket #Target Variable\n",
    "a = test.drop(['IncomeBracket'],axis=1)#Feature Variables\n",
    "accuracy_score(b, gb.predict(a))#Predicting the accuracy scores"
   ]
  },
  {
   "cell_type": "markdown",
   "metadata": {},
   "source": [
    "###### We got an accuracy of 80.6% which is higher that the traing set where we achieved 78.3% by grid search and average score of 79.1% using grid search by this we can say that our model performed well"
   ]
  },
  {
   "cell_type": "code",
   "execution_count": 377,
   "metadata": {},
   "outputs": [
    {
     "data": {
      "text/plain": [
       "array([[16715,   460,     5],\n",
       "       [ 2025,  1824,    55],\n",
       "       [  994,   923,    30]])"
      ]
     },
     "execution_count": 377,
     "metadata": {},
     "output_type": "execute_result"
    }
   ],
   "source": [
    "sklearn.metrics.confusion_matrix(b,gb.predict(a))"
   ]
  },
  {
   "cell_type": "code",
   "execution_count": 374,
   "metadata": {},
   "outputs": [
    {
     "data": {
      "text/plain": [
       "array([0, 0, 0, ..., 0, 0, 1], dtype=int64)"
      ]
     },
     "execution_count": 374,
     "metadata": {},
     "output_type": "execute_result"
    }
   ],
   "source": [
    "gb.predict(a)"
   ]
  },
  {
   "cell_type": "code",
   "execution_count": null,
   "metadata": {
    "collapsed": true
   },
   "outputs": [],
   "source": []
  }
 ],
 "metadata": {
  "kernelspec": {
   "display_name": "Python 3",
   "language": "python",
   "name": "python3"
  },
  "language_info": {
   "codemirror_mode": {
    "name": "ipython",
    "version": 3
   },
   "file_extension": ".py",
   "mimetype": "text/x-python",
   "name": "python",
   "nbconvert_exporter": "python",
   "pygments_lexer": "ipython3",
   "version": "3.6.3"
  },
  "widgets": {
   "state": {},
   "version": "1.1.2"
  }
 },
 "nbformat": 4,
 "nbformat_minor": 1
}
